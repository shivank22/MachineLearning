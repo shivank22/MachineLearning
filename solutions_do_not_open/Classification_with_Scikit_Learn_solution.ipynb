{
  "cells": [
    {
      "cell_type": "markdown",
      "metadata": {
        "id": "view-in-github",
        "colab_type": "text"
      },
      "source": [
        "<a href=\"https://colab.research.google.com/github/shivank22/MachineLearning/blob/main/solutions_do_not_open/Classification_with_Scikit_Learn_solution.ipynb\" target=\"_parent\"><img src=\"https://colab.research.google.com/assets/colab-badge.svg\" alt=\"Open In Colab\"/></a>"
      ]
    },
    {
      "cell_type": "markdown",
      "metadata": {
        "id": "2bwH96hViwS7"
      },
      "source": [
        "## Learn with us: www.zerotodeeplearning.com\n",
        "\n",
        "Copyright © 2021: Zero to Deep Learning ® Catalit LLC."
      ]
    },
    {
      "cell_type": "code",
      "execution_count": null,
      "metadata": {
        "id": "bFidPKNdkVPg"
      },
      "outputs": [],
      "source": [
        "# Licensed under the Apache License, Version 2.0 (the \"License\");\n",
        "# you may not use this file except in compliance with the License.\n",
        "# You may obtain a copy of the License at\n",
        "#\n",
        "# https://www.apache.org/licenses/LICENSE-2.0\n",
        "#\n",
        "# Unless required by applicable law or agreed to in writing, software\n",
        "# distributed under the License is distributed on an \"AS IS\" BASIS,\n",
        "# WITHOUT WARRANTIES OR CONDITIONS OF ANY KIND, either express or implied.\n",
        "# See the License for the specific language governing permissions and\n",
        "# limitations under the License."
      ]
    },
    {
      "cell_type": "markdown",
      "metadata": {
        "id": "fns2V8glGm2Y"
      },
      "source": [
        "Documentation links:\n",
        "\n",
        "- [Google Colab](https://colab.research.google.com/notebooks/intro.ipynb)\n",
        "- [Numpy](https://docs.scipy.org/doc/)\n",
        "- [Pandas](https://pandas.pydata.org/docs/getting_started/index.html)\n",
        "- [Pandas Cheatsheet](https://pandas.pydata.org/Pandas_Cheat_Sheet.pdf)\n",
        "- [Matplotlib](https://matplotlib.org/)\n",
        "- [Matplotlib Cheat Sheet](https://s3.amazonaws.com/assets.datacamp.com/blog_assets/Python_Matplotlib_Cheat_Sheet.pdf)\n",
        "- [Seaborn](https://seaborn.pydata.org/)\n",
        "- [Scikit-learn](https://scikit-learn.org/stable/user_guide.html)\n",
        "- [Scikit-learn Cheat Sheet](https://s3.amazonaws.com/assets.datacamp.com/blog_assets/Scikit_Learn_Cheat_Sheet_Python.pdf)\n",
        "- [Scikit-learn Flow Chart](https://scikit-learn.org/stable/tutorial/machine_learning_map/index.html)"
      ]
    },
    {
      "cell_type": "markdown",
      "metadata": {
        "id": "SJV4wsauGpdf"
      },
      "source": [
        "# Classification with Scikit Learn"
      ]
    },
    {
      "cell_type": "code",
      "execution_count": null,
      "metadata": {
        "id": "xb0oGDKDGxLs"
      },
      "outputs": [],
      "source": [
        "import numpy as np\n",
        "import pandas as pd\n",
        "import matplotlib.pyplot as plt\n",
        "import seaborn as sns"
      ]
    },
    {
      "cell_type": "markdown",
      "metadata": {
        "id": "0ToxOBucSgv2"
      },
      "source": [
        "### Load data"
      ]
    },
    {
      "cell_type": "code",
      "execution_count": null,
      "metadata": {
        "id": "A6FH6HE4SFyj"
      },
      "outputs": [],
      "source": [
        "url = \"https://raw.githubusercontent.com/zerotodeeplearning/ztdl-masterclasses/master/data/\""
      ]
    },
    {
      "cell_type": "code",
      "execution_count": null,
      "metadata": {
        "id": "fufO4Rm9SLXU"
      },
      "outputs": [],
      "source": [
        "df = pd.read_csv(url + 'geoloc_elev.csv')"
      ]
    },
    {
      "cell_type": "markdown",
      "metadata": {
        "id": "LZee5Rs0SVoM"
      },
      "source": [
        "### Exploration"
      ]
    },
    {
      "cell_type": "code",
      "execution_count": null,
      "metadata": {
        "id": "hYlEgA4uSlk3"
      },
      "outputs": [],
      "source": [
        "df.head()"
      ]
    },
    {
      "cell_type": "code",
      "execution_count": null,
      "metadata": {
        "id": "5hU6jsOnSl6z"
      },
      "outputs": [],
      "source": [
        "df.info()"
      ]
    },
    {
      "cell_type": "code",
      "execution_count": null,
      "metadata": {
        "id": "kqZlrB-HSoa6"
      },
      "outputs": [],
      "source": [
        "df['source'].value_counts()"
      ]
    },
    {
      "cell_type": "code",
      "execution_count": null,
      "metadata": {
        "id": "fVYFiTuSSsAN"
      },
      "outputs": [],
      "source": [
        "df['target'].value_counts()"
      ]
    },
    {
      "cell_type": "code",
      "execution_count": null,
      "metadata": {
        "id": "RcgXJ2LtStoW"
      },
      "outputs": [],
      "source": [
        "sns.pairplot(df, hue='target');"
      ]
    },
    {
      "cell_type": "markdown",
      "metadata": {
        "id": "e-4J8yx-Sv86"
      },
      "source": [
        "### Features and Labels"
      ]
    },
    {
      "cell_type": "code",
      "execution_count": null,
      "metadata": {
        "id": "XgdN_Cm-S5T7"
      },
      "outputs": [],
      "source": [
        "y = df['target']"
      ]
    },
    {
      "cell_type": "code",
      "execution_count": null,
      "metadata": {
        "id": "vF8zyavNS8u1"
      },
      "outputs": [],
      "source": [
        "raw_features = df.drop('target', axis=1)\n",
        "\n",
        "# 1-hot encoding of categorical column \"source\"\n",
        "X = pd.get_dummies(raw_features)\n",
        "\n",
        "X.head()"
      ]
    },
    {
      "cell_type": "markdown",
      "metadata": {
        "id": "TYSAiZXBTBdN"
      },
      "source": [
        "### Model training and evaluation"
      ]
    },
    {
      "cell_type": "code",
      "execution_count": null,
      "metadata": {
        "id": "IozmiempTSbr"
      },
      "outputs": [],
      "source": [
        "from sklearn.model_selection import train_test_split\n",
        "from sklearn.tree import DecisionTreeClassifier\n",
        "from sklearn.metrics import confusion_matrix, classification_report"
      ]
    },
    {
      "cell_type": "code",
      "execution_count": null,
      "metadata": {
        "id": "6p53_lMvTMke"
      },
      "outputs": [],
      "source": [
        "X_train, X_test, y_train, y_test = train_test_split(X, y,\n",
        "    test_size = 0.3, random_state=0)"
      ]
    },
    {
      "cell_type": "code",
      "execution_count": null,
      "metadata": {
        "id": "7Jm9fP8ITXlj"
      },
      "outputs": [],
      "source": [
        "model = DecisionTreeClassifier(max_depth=3, random_state=0)\n",
        "model.fit(X_train, y_train)"
      ]
    },
    {
      "cell_type": "code",
      "execution_count": null,
      "metadata": {
        "id": "QDyZdQVcTaNe"
      },
      "outputs": [],
      "source": [
        "y_pred = model.predict(X_test)"
      ]
    },
    {
      "cell_type": "code",
      "execution_count": null,
      "metadata": {
        "id": "mNInZEa4Tbwt"
      },
      "outputs": [],
      "source": [
        "cm = confusion_matrix(y_test, y_pred)\n",
        "\n",
        "pd.DataFrame(cm,\n",
        "             index=[\"Miss\", \"Hit\"],\n",
        "             columns=['pred_Miss', 'pred_Hit'])"
      ]
    },
    {
      "cell_type": "code",
      "execution_count": null,
      "metadata": {
        "id": "S_wTTF8hTdgJ"
      },
      "outputs": [],
      "source": [
        "print(classification_report(y_test, y_pred))"
      ]
    },
    {
      "cell_type": "markdown",
      "metadata": {
        "id": "Ue61PNpvTgK0"
      },
      "source": [
        "### Decision Boundary"
      ]
    },
    {
      "cell_type": "code",
      "execution_count": null,
      "metadata": {
        "id": "mOr6aBgaUV0H"
      },
      "outputs": [],
      "source": [
        "def plot_decision_boundary(model):\n",
        "  hticks = np.linspace(-2, 2, 101)\n",
        "  vticks = np.linspace(-2, 2, 101)\n",
        "\n",
        "  aa, bb = np.meshgrid(hticks, vticks)\n",
        "  a_flat = aa.ravel()\n",
        "  b_flat = bb.ravel()\n",
        "  N = len(a_flat)\n",
        "\n",
        "  zeros = np.zeros((N, 4))\n",
        "  ab = np.c_[a_flat, b_flat, zeros]\n",
        "\n",
        "  c = model.predict(ab)\n",
        "\n",
        "  cc = c.reshape(aa.shape)\n",
        "  plt.contourf(aa, bb, cc, cmap='bwr', alpha=0.2)"
      ]
    },
    {
      "cell_type": "code",
      "execution_count": null,
      "metadata": {
        "id": "8Tzw3ECLXLXa"
      },
      "outputs": [],
      "source": [
        "df.plot(kind='scatter', c='target', x='lat', y='lon', cmap='bwr')\n",
        "\n",
        "plot_decision_boundary(model)"
      ]
    },
    {
      "cell_type": "markdown",
      "metadata": {
        "id": "k4ZuqpkFa9RC"
      },
      "source": [
        "## Exercise 1\n",
        "\n",
        "\n",
        "Iterate and improve on the decision tree model. Now you have a basic pipeline example. How can you improve the score? Try some of the following:\n",
        "\n",
        "1. change some of the initialization parameters of the decision tree re run the code.\n",
        "    - Does the score change?\n",
        "    - Does the decision boundary change?\n",
        "2. try some other model like Logistic Regression, Random Forest, SVM, Naive Bayes or any other model you like from [here](http://scikit-learn.org/stable/auto_examples/classification/plot_classifier_comparison.html)\n",
        "3. what's the highest score you can get?\n",
        "\n",
        "An easy way to achieve all of the above is to define a function that trains and evaluates the model like this one:\n",
        "\n",
        "\n",
        "```python\n",
        "def train_eval(model):\n",
        "  # YOUR CODE HERE\n",
        "  \n",
        "```\n",
        "\n",
        "and then loop over a list of models:\n",
        "\n",
        "```python\n",
        "models = [...]\n",
        "\n",
        "for model in models:\n",
        "  train_eval(model)\n",
        "```\n",
        "\n",
        "Bonus points if you also measure the time it takes for each model to train"
      ]
    },
    {
      "cell_type": "code",
      "execution_count": null,
      "metadata": {
        "id": "KhWC4uqs8vyp"
      },
      "outputs": [],
      "source": [
        "from sklearn.metrics import accuracy_score\n",
        "from sklearn.ensemble import RandomForestClassifier, ExtraTreesClassifier\n",
        "from sklearn.linear_model import LogisticRegression\n",
        "from sklearn.svm import SVC\n",
        "from sklearn.naive_bayes import GaussianNB\n",
        "from sklearn.neural_network import MLPClassifier\n",
        "from xgboost import XGBClassifier\n",
        "from time import time"
      ]
    },
    {
      "cell_type": "code",
      "execution_count": null,
      "metadata": {
        "id": "FsLPRdKg7Mdd",
        "tags": [
          "solution",
          "empty"
        ]
      },
      "outputs": [],
      "source": [
        "def pretty_cm(y_true, y_pred):\n",
        "  cm = confusion_matrix(y_true, y_pred)\n",
        "\n",
        "  cmdf = pd.DataFrame(cm,\n",
        "                      index=[\"Miss\", \"Hit\"],\n",
        "                      columns=['pred_Miss', 'pred_Hit'])\n",
        "  return cmdf\n",
        "\n",
        "def train_eval(model):\n",
        "  t0 = time()\n",
        "  model.fit(X_train.values, y_train)\n",
        "  t1 = time()\n",
        "\n",
        "  y_pred_train = model.predict(X_train.values)\n",
        "  y_pred_test = model.predict(X_test.values)\n",
        "\n",
        "  train_acc = accuracy_score(y_train, y_pred_train)\n",
        "  test_acc = accuracy_score(y_test, y_pred_test)\n",
        "\n",
        "  cmdf = pretty_cm(y_test, y_pred_test)\n",
        "  res = \"{}: train: {:0.3}, test: {:0.3}, time (ms): {:0.3}\".format(\n",
        "      model.__class__.__name__,\n",
        "      train_acc,\n",
        "      test_acc,\n",
        "      1000*(t1 - t0))\n",
        "\n",
        "  df.plot(kind='scatter', c='target', x='lat', y='lon', cmap='bwr')\n",
        "\n",
        "  plot_decision_boundary(model)\n",
        "\n",
        "  plt.title(res)\n",
        "\n",
        "  plt.text(2, -2,\n",
        "           str(cmdf),\n",
        "           horizontalalignment='right',\n",
        "           bbox={'facecolor':'white'})\n",
        "  plt.show()\n",
        "\n",
        "\n",
        "train_eval(model)"
      ]
    },
    {
      "cell_type": "code",
      "execution_count": null,
      "metadata": {
        "id": "keLhm83U_EOU",
        "tags": [
          "solution"
        ]
      },
      "outputs": [],
      "source": [
        "models = [DecisionTreeClassifier(max_depth=3),\n",
        "          DecisionTreeClassifier(max_depth=6),\n",
        "          RandomForestClassifier(),\n",
        "          ExtraTreesClassifier(),\n",
        "          GaussianNB(),\n",
        "          LogisticRegression(),\n",
        "          XGBClassifier(),\n",
        "          SVC(),\n",
        "          MLPClassifier(),\n",
        "          ]"
      ]
    },
    {
      "cell_type": "code",
      "execution_count": null,
      "metadata": {
        "id": "QL1-3wjg_aCP",
        "tags": [
          "solution"
        ]
      },
      "outputs": [],
      "source": [
        "for model in models:\n",
        "  train_eval(model)"
      ]
    },
    {
      "cell_type": "markdown",
      "metadata": {
        "id": "CmLw70Di_cRQ"
      },
      "source": [
        "### Exercise 2\n",
        "\n",
        "\n",
        "- load the churn dataset `churn.csv`\n",
        "- assign the `Churn` column to a variable called `y`\n",
        "- assign the other columns to a variable called `features`\n",
        "- select numerical columns with `features.select_dtypes` and asign them to a variable called `X`\n",
        "- split data into train/test with test_size=0.3 and random_state=42\n",
        "- modify the `train_eval` function defined earlier to test and compare different models and hyperparameters combinations.\n",
        "\n",
        "You can find a list of models available [here](http://scikit-learn.org/stable/auto_examples/classification/plot_classifier_comparison.html).\n"
      ]
    },
    {
      "cell_type": "code",
      "execution_count": null,
      "metadata": {
        "id": "GGZ64BjjATsD",
        "tags": [
          "solution",
          "empty"
        ]
      },
      "outputs": [],
      "source": [
        "df = pd.read_csv(url + 'churn.csv')"
      ]
    },
    {
      "cell_type": "code",
      "execution_count": null,
      "metadata": {
        "id": "fjcsjTplAXr0",
        "tags": [
          "solution"
        ]
      },
      "outputs": [],
      "source": [
        "df.head()"
      ]
    },
    {
      "cell_type": "code",
      "execution_count": null,
      "metadata": {
        "id": "pJSWRqVPAYYu",
        "tags": [
          "solution"
        ]
      },
      "outputs": [],
      "source": [
        "df.info()"
      ]
    },
    {
      "cell_type": "code",
      "execution_count": null,
      "metadata": {
        "id": "0KHWtcTEAZAg",
        "tags": [
          "solution"
        ]
      },
      "outputs": [],
      "source": [
        "y = df['Churn'] == 'Yes'\n",
        "features = df.drop('Churn', axis=1)"
      ]
    },
    {
      "cell_type": "code",
      "execution_count": null,
      "metadata": {
        "id": "ElHxzNpZAbAY",
        "tags": [
          "solution"
        ]
      },
      "outputs": [],
      "source": [
        "X = features.select_dtypes(include=['number'])"
      ]
    },
    {
      "cell_type": "code",
      "execution_count": null,
      "metadata": {
        "id": "reJUHCXjBGd1",
        "tags": [
          "solution"
        ]
      },
      "outputs": [],
      "source": [
        "X_train, X_test, y_train, y_test = train_test_split(\n",
        "    X, y, test_size=0.3, random_state=42)"
      ]
    },
    {
      "cell_type": "code",
      "execution_count": null,
      "metadata": {
        "id": "r3KA_Y-sBHmn",
        "tags": [
          "solution"
        ]
      },
      "outputs": [],
      "source": [
        "def train_eval(model):\n",
        "\n",
        "  model.fit(X_train.values, y_train)\n",
        "  y_pred_train = model.predict(X_train.values)\n",
        "  y_pred_test = model.predict(X_test.values)\n",
        "\n",
        "  train_acc = accuracy_score(y_train, y_pred_train)\n",
        "  test_acc = accuracy_score(y_test, y_pred_test)\n",
        "\n",
        "  print(\"{: <25} Train: {: 0.4} Test: {: 0.4}\".format(\n",
        "      model.__class__.__name__,\n",
        "      train_acc,\n",
        "      test_acc))\n",
        "\n",
        "\n",
        "for model in models:\n",
        "  train_eval(model)"
      ]
    },
    {
      "cell_type": "markdown",
      "metadata": {
        "id": "tfzwnqVyuesb"
      },
      "source": [
        "### Exercise 3\n",
        "\n",
        "Define a new function that also keeps track of the time required to train the model. Your new function will look like:\n",
        "\n",
        "```python\n",
        "def train_eval_time(model):\n",
        "  # YOUR CODE HERE\n",
        "  \n",
        "  return model, train_acc, test_acc, dt\n",
        "```"
      ]
    },
    {
      "cell_type": "code",
      "execution_count": null,
      "metadata": {
        "id": "-siY-Q3guesb"
      },
      "outputs": [],
      "source": [
        "from time import time"
      ]
    },
    {
      "cell_type": "code",
      "execution_count": null,
      "metadata": {
        "tags": [
          "solution",
          "empty"
        ],
        "id": "PdDGbzWvuesb"
      },
      "outputs": [],
      "source": [
        "def train_eval_time(model):\n",
        "  t0 = time()\n",
        "  model.fit(X_train.values, y_train)\n",
        "  dt = time() - t0\n",
        "  y_pred_train = model.predict(X_train.values)\n",
        "  y_pred_test = model.predict(X_test.values)\n",
        "\n",
        "  train_acc = accuracy_score(y_train, y_pred_train)\n",
        "  test_acc = accuracy_score(y_test, y_pred_test)\n",
        "\n",
        "  return model, train_acc, test_acc, dt\n",
        "\n",
        "\n",
        "for model in models:\n",
        "  model, train_acc, test_acc, dt = train_eval_time(model)\n",
        "  print(\"{: <25} Train: {: 0.4}\\tTest: {: 0.4}\\tTrain Time: {: 0.4}\".format(\n",
        "      model.__class__.__name__,\n",
        "      train_acc,\n",
        "      test_acc,\n",
        "      dt))"
      ]
    },
    {
      "cell_type": "code",
      "execution_count": null,
      "metadata": {
        "tags": [
          "solution"
        ],
        "id": "9m9ZntuVuesb"
      },
      "outputs": [],
      "source": [
        "%%timeit\n",
        "train_eval_time(models[0])"
      ]
    }
  ],
  "metadata": {
    "celltoolbar": "Tags",
    "colab": {
      "name": "Classification_with_Scikit_Learn.ipynb",
      "provenance": [],
      "include_colab_link": true
    },
    "kernelspec": {
      "display_name": "Python 3",
      "language": "python",
      "name": "python3"
    },
    "language_info": {
      "codemirror_mode": {
        "name": "ipython",
        "version": 3
      },
      "file_extension": ".py",
      "mimetype": "text/x-python",
      "name": "python",
      "nbconvert_exporter": "python",
      "pygments_lexer": "ipython3",
      "version": "3.7.6"
    }
  },
  "nbformat": 4,
  "nbformat_minor": 0
}