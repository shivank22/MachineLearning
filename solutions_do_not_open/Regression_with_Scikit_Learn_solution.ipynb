{
  "cells": [
    {
      "cell_type": "markdown",
      "metadata": {
        "id": "view-in-github",
        "colab_type": "text"
      },
      "source": [
        "<a href=\"https://colab.research.google.com/github/shivank22/MachineLearning/blob/main/solutions_do_not_open/Regression_with_Scikit_Learn_solution.ipynb\" target=\"_parent\"><img src=\"https://colab.research.google.com/assets/colab-badge.svg\" alt=\"Open In Colab\"/></a>"
      ]
    },
    {
      "cell_type": "markdown",
      "metadata": {
        "id": "2bwH96hViwS7"
      },
      "source": [
        "## Learn with us: www.zerotodeeplearning.com\n",
        "\n",
        "Copyright © 2021: Zero to Deep Learning ® Catalit LLC."
      ]
    },
    {
      "cell_type": "code",
      "execution_count": null,
      "metadata": {
        "id": "bFidPKNdkVPg"
      },
      "outputs": [],
      "source": [
        "# Licensed under the Apache License, Version 2.0 (the \"License\");\n",
        "# you may not use this file except in compliance with the License.\n",
        "# You may obtain a copy of the License at\n",
        "#\n",
        "# https://www.apache.org/licenses/LICENSE-2.0\n",
        "#\n",
        "# Unless required by applicable law or agreed to in writing, software\n",
        "# distributed under the License is distributed on an \"AS IS\" BASIS,\n",
        "# WITHOUT WARRANTIES OR CONDITIONS OF ANY KIND, either express or implied.\n",
        "# See the License for the specific language governing permissions and\n",
        "# limitations under the License."
      ]
    },
    {
      "cell_type": "markdown",
      "metadata": {
        "id": "Kp9gijfO4FhR"
      },
      "source": [
        "Documentation links:\n",
        "\n",
        "- [Google Colab](https://colab.research.google.com/notebooks/intro.ipynb)\n",
        "- [Numpy](https://docs.scipy.org/doc/)\n",
        "- [Pandas](https://pandas.pydata.org/docs/getting_started/index.html)\n",
        "- [Pandas Cheatsheet](https://pandas.pydata.org/Pandas_Cheat_Sheet.pdf)\n",
        "- [Matplotlib](https://matplotlib.org/)\n",
        "- [Matplotlib Cheat Sheet](https://s3.amazonaws.com/assets.datacamp.com/blog_assets/Python_Matplotlib_Cheat_Sheet.pdf)\n",
        "- [Seaborn](https://seaborn.pydata.org/)\n",
        "- [Scikit-learn](https://scikit-learn.org/stable/user_guide.html)\n",
        "- [Scikit-learn Cheat Sheet](https://s3.amazonaws.com/assets.datacamp.com/blog_assets/Scikit_Learn_Cheat_Sheet_Python.pdf)\n",
        "- [Scikit-learn Flow Chart](https://scikit-learn.org/stable/tutorial/machine_learning_map/index.html)"
      ]
    },
    {
      "cell_type": "markdown",
      "metadata": {
        "id": "r8oZpjCNotv3"
      },
      "source": [
        "# Regression with Scikit Learn"
      ]
    },
    {
      "cell_type": "code",
      "execution_count": null,
      "metadata": {
        "id": "3_MOM9fSox1A"
      },
      "outputs": [],
      "source": [
        "import numpy as np\n",
        "import pandas as pd\n",
        "import matplotlib.pyplot as plt\n",
        "import seaborn as sns"
      ]
    },
    {
      "cell_type": "code",
      "execution_count": null,
      "metadata": {
        "id": "4CkSVJzvo1db"
      },
      "outputs": [],
      "source": [
        "url = \"https://raw.githubusercontent.com/zerotodeeplearning/ztdl-masterclasses/master/data/\""
      ]
    },
    {
      "cell_type": "markdown",
      "metadata": {
        "id": "ykht-Pr4o2u3"
      },
      "source": [
        "## Regression"
      ]
    },
    {
      "cell_type": "code",
      "execution_count": null,
      "metadata": {
        "id": "ePS1wpKeo4bq"
      },
      "outputs": [],
      "source": [
        "df = pd.read_csv(url + 'weight-height.csv')"
      ]
    },
    {
      "cell_type": "code",
      "execution_count": null,
      "metadata": {
        "id": "eFsEtJ0uo5Wk"
      },
      "outputs": [],
      "source": [
        "df.head()"
      ]
    },
    {
      "cell_type": "code",
      "execution_count": null,
      "metadata": {
        "id": "nY3ePCduo6Od"
      },
      "outputs": [],
      "source": [
        "sns.scatterplot(data=df,\n",
        "                x='Height',\n",
        "                y='Weight');"
      ]
    },
    {
      "cell_type": "code",
      "execution_count": null,
      "metadata": {
        "id": "Gjoi8T31pGBW"
      },
      "outputs": [],
      "source": [
        "from sklearn.linear_model import LinearRegression\n",
        "from sklearn.model_selection import train_test_split"
      ]
    },
    {
      "cell_type": "code",
      "execution_count": null,
      "metadata": {
        "id": "QE0OqmoSpKir"
      },
      "outputs": [],
      "source": [
        "X = df[['Height']].values\n",
        "y = df['Weight'].values"
      ]
    },
    {
      "cell_type": "code",
      "execution_count": null,
      "metadata": {
        "id": "ZlRQZdY3pHsT"
      },
      "outputs": [],
      "source": [
        "X_train, X_test, y_train, y_test = train_test_split(\n",
        "    X, y, test_size=0.2, random_state=0)"
      ]
    },
    {
      "cell_type": "code",
      "execution_count": null,
      "metadata": {
        "id": "R0VAILn4pLNW"
      },
      "outputs": [],
      "source": [
        "model = LinearRegression()"
      ]
    },
    {
      "cell_type": "code",
      "execution_count": null,
      "metadata": {
        "id": "QLZ5tJHRpNXj"
      },
      "outputs": [],
      "source": [
        "model.fit(X_train, y_train)"
      ]
    },
    {
      "cell_type": "code",
      "execution_count": null,
      "metadata": {
        "id": "JO0dGYpJpNs7"
      },
      "outputs": [],
      "source": [
        "model.score(X_train, y_train)"
      ]
    },
    {
      "cell_type": "code",
      "execution_count": null,
      "metadata": {
        "id": "JCb0w9QepO4K"
      },
      "outputs": [],
      "source": [
        "model.score(X_test, y_test)"
      ]
    },
    {
      "cell_type": "code",
      "execution_count": null,
      "metadata": {
        "id": "FFtByWtDpPwx"
      },
      "outputs": [],
      "source": [
        "y_pred_test = model.predict(X_test)"
      ]
    },
    {
      "cell_type": "markdown",
      "metadata": {
        "id": "-fsQT9Fip4gK"
      },
      "source": [
        "## Plot the line of best fit"
      ]
    },
    {
      "cell_type": "code",
      "execution_count": null,
      "metadata": {
        "id": "hSNaUy5gp4Bq"
      },
      "outputs": [],
      "source": [
        "plt.scatter(X_test, y_test)\n",
        "plt.plot(X_test, y_pred_test, color='red')\n",
        "plt.title(\"Model coef: {:0.3f}, Intercept: {:0.2f}\".format(model.coef_[0], model.intercept_))\n",
        "plt.xlabel(\"Height\")\n",
        "plt.ylabel(\"Weight\");"
      ]
    },
    {
      "cell_type": "markdown",
      "metadata": {
        "id": "yqkYlyvts9J7"
      },
      "source": [
        "### Compare true and predicted values ($y$ vs $\\hat{y}$)"
      ]
    },
    {
      "cell_type": "code",
      "execution_count": null,
      "metadata": {
        "id": "4ssSFg4spacj"
      },
      "outputs": [],
      "source": [
        "plt.scatter(y_test, y_pred_test)\n",
        "plt.xlabel(\"True Values\")\n",
        "plt.ylabel(\"Predicted Values\")\n",
        "\n",
        "m = y_test.min()\n",
        "M = y_test.max()\n",
        "\n",
        "plt.plot((m, M), (m, M), color='red');"
      ]
    },
    {
      "cell_type": "markdown",
      "metadata": {
        "id": "mE5l6e_Bpf4d"
      },
      "source": [
        "### Exercise 1: multiple features\n",
        "\n",
        "More features: `sqft`, `bdrms`, `age`, `price`\n",
        "\n",
        "- load the dataset `housing-data.csv`\n",
        "- visualize the data using `sns.pairplot`\n",
        "- add more columns in the feature definition `X = ...`\n",
        "- train and evaluate a Linear regression model to predict `price`\n",
        "- compare predictions with actual values\n",
        "- is your score good?\n",
        "- change the `random_state` in the train/test split function. Does the score stay stable?"
      ]
    },
    {
      "cell_type": "code",
      "execution_count": null,
      "metadata": {
        "id": "0BU_QM2Yt4va",
        "tags": [
          "solution",
          "empty"
        ]
      },
      "outputs": [],
      "source": [
        "df = pd.read_csv(url + 'housing-data.csv')"
      ]
    },
    {
      "cell_type": "code",
      "execution_count": null,
      "metadata": {
        "id": "Xt9KC_4Gt7pD",
        "tags": [
          "solution"
        ]
      },
      "outputs": [],
      "source": [
        "df.head()"
      ]
    },
    {
      "cell_type": "code",
      "execution_count": null,
      "metadata": {
        "id": "2p-m4Rqrt82F",
        "tags": [
          "solution"
        ]
      },
      "outputs": [],
      "source": [
        "df.info()"
      ]
    },
    {
      "cell_type": "code",
      "execution_count": null,
      "metadata": {
        "id": "6mf8na5vvkQu",
        "tags": [
          "solution"
        ]
      },
      "outputs": [],
      "source": [
        "sns.pairplot(df);"
      ]
    },
    {
      "cell_type": "code",
      "execution_count": null,
      "metadata": {
        "id": "ucG9Bc065mN7",
        "tags": [
          "solution"
        ]
      },
      "outputs": [],
      "source": [
        "X = df.drop('price', axis=1).values\n",
        "y = df['price'].values"
      ]
    },
    {
      "cell_type": "code",
      "execution_count": null,
      "metadata": {
        "id": "LPdJZATS6aYL",
        "tags": [
          "solution"
        ]
      },
      "outputs": [],
      "source": [
        "X_train, X_test, y_train, y_test = train_test_split(\n",
        "    X, y, test_size=0.2, random_state=1)"
      ]
    },
    {
      "cell_type": "code",
      "execution_count": null,
      "metadata": {
        "id": "xm3LASLy6Ns_",
        "tags": [
          "solution"
        ]
      },
      "outputs": [],
      "source": [
        "model = LinearRegression()"
      ]
    },
    {
      "cell_type": "code",
      "execution_count": null,
      "metadata": {
        "id": "9OOuY4J36Xm5",
        "tags": [
          "solution"
        ]
      },
      "outputs": [],
      "source": [
        "model.fit(X_train, y_train)"
      ]
    },
    {
      "cell_type": "code",
      "execution_count": null,
      "metadata": {
        "id": "0_xxJgn26cp5",
        "tags": [
          "solution"
        ]
      },
      "outputs": [],
      "source": [
        "model.score(X_train, y_train)"
      ]
    },
    {
      "cell_type": "code",
      "execution_count": null,
      "metadata": {
        "id": "XcMKOFnR6eyf",
        "tags": [
          "solution"
        ]
      },
      "outputs": [],
      "source": [
        "model.score(X_test, y_test)"
      ]
    },
    {
      "cell_type": "code",
      "execution_count": null,
      "metadata": {
        "id": "6ykX9_hH6m1T",
        "tags": [
          "solution"
        ]
      },
      "outputs": [],
      "source": [
        "y_pred_test = model.predict(X_test)"
      ]
    },
    {
      "cell_type": "code",
      "execution_count": null,
      "metadata": {
        "id": "MYoehTYq6hL1",
        "tags": [
          "solution"
        ]
      },
      "outputs": [],
      "source": [
        "plt.scatter(y_test, y_pred_test)\n",
        "plt.xlabel(\"True Values\")\n",
        "plt.ylabel(\"Predicted Values\")\n",
        "\n",
        "m = y_test.min()\n",
        "M = y_test.max()\n",
        "\n",
        "plt.plot((m, M), (m, M), color='red');"
      ]
    },
    {
      "cell_type": "markdown",
      "metadata": {
        "id": "4jca_bjV6oym"
      },
      "source": [
        "### Exercise 2\n",
        "\n",
        "- Encapsulate the split/train/evaluate steps into a single function with signature:\n",
        "\n",
        "```python\n",
        "def train_eval(random_state=0):\n",
        "  # YOUR CODE HERE\n",
        "\n",
        "  return train_score, test_score\n",
        "```\n",
        "- Compare the performance of the model for several random states\n",
        "\n",
        "- Bonus points if you plot a histogram of train and test scores"
      ]
    },
    {
      "cell_type": "code",
      "execution_count": null,
      "metadata": {
        "id": "UB7pAmcz8YHz"
      },
      "outputs": [],
      "source": [
        "from sklearn.metrics import r2_score"
      ]
    },
    {
      "cell_type": "code",
      "execution_count": null,
      "metadata": {
        "id": "PX5Yf4wN79jg",
        "tags": [
          "solution",
          "empty"
        ]
      },
      "outputs": [],
      "source": [
        "def train_eval(random_state=0):\n",
        "  X_train, X_test, y_train, y_test = train_test_split(\n",
        "    X, y, test_size=0.2, random_state=random_state)\n",
        "\n",
        "  model = LinearRegression()\n",
        "\n",
        "  model.fit(X_train, y_train)\n",
        "  y_pred_train = model.predict(X_train)\n",
        "  y_pred_test = model.predict(X_test)\n",
        "\n",
        "  train_score = r2_score(y_train, y_pred_train)\n",
        "  test_score = r2_score(y_test, y_pred_test)\n",
        "\n",
        "  return train_score, test_score\n",
        "\n",
        "train_eval()"
      ]
    },
    {
      "cell_type": "code",
      "execution_count": null,
      "metadata": {
        "id": "j2e4sEYF882J",
        "tags": [
          "solution"
        ]
      },
      "outputs": [],
      "source": [
        "random_states = range(500)\n",
        "scores = [train_eval(rs) for rs in random_states]"
      ]
    },
    {
      "cell_type": "code",
      "execution_count": null,
      "metadata": {
        "id": "nUCuIGo09Ex5",
        "tags": [
          "solution"
        ]
      },
      "outputs": [],
      "source": [
        "dfscores = pd.DataFrame(scores,\n",
        "                        index=random_states,\n",
        "                        columns=['train_score', 'test_score'])"
      ]
    },
    {
      "cell_type": "code",
      "execution_count": null,
      "metadata": {
        "id": "X1tzVPdu9MhQ",
        "tags": [
          "solution"
        ]
      },
      "outputs": [],
      "source": [
        "dfscores.plot.hist(alpha=0.5, bins=20, title='Model sampling');"
      ]
    },
    {
      "cell_type": "markdown",
      "metadata": {
        "id": "ItFIiByt9Yuf"
      },
      "source": [
        "### Exercise 3:\n",
        "\n",
        "Let's see how easy it is to test different models on a larger dataset.\n",
        "\n",
        "Here we load the California Housing dataset from Scikit Learn. Your goal is to define a function that:\n",
        "- trains a model\n",
        "- plots `y_pred` vs `y_true`\n",
        "\n",
        "You can skip doing train/test split for this exercise.\n",
        "\n",
        "Then compare the performance of the models given below:\n",
        "- `sklearn.linear_model.LinearRegression`\n",
        "- `sklearn.ensembleGradient.BoostingRegressor`\n",
        "- `sklearn.ensembleRandom.ForestRegressor`\n",
        "- `sklearn.linear_model.Ridge`\n",
        "- `sklearn.linear_model.Lasso`\n",
        "\n",
        "Function signature:\n",
        "\n",
        "```python\n",
        "def train_eval_plot(model):\n",
        "  # YOUR CODE HERE\n",
        "\n",
        "```"
      ]
    },
    {
      "cell_type": "code",
      "execution_count": null,
      "metadata": {
        "id": "uLURkZ5FBpeL"
      },
      "outputs": [],
      "source": [
        "from sklearn.datasets import load_boston, fetch_california_housing\n",
        "from sklearn.ensemble import GradientBoostingRegressor\n",
        "from sklearn.ensemble import RandomForestRegressor\n",
        "from sklearn.linear_model import Ridge, Lasso"
      ]
    },
    {
      "cell_type": "code",
      "execution_count": null,
      "metadata": {
        "id": "XOhQ98q5B1wv"
      },
      "outputs": [],
      "source": [
        "dataset = fetch_california_housing()\n",
        "y = dataset.target\n",
        "\n",
        "Xdf = pd.DataFrame(dataset.data, columns=dataset.feature_names)\n",
        "X = Xdf.values\n",
        "\n",
        "Xdf.head()"
      ]
    },
    {
      "cell_type": "code",
      "execution_count": null,
      "metadata": {
        "id": "kiXHqZizB7Rh"
      },
      "outputs": [],
      "source": [
        "print(dataset.DESCR)"
      ]
    },
    {
      "cell_type": "code",
      "execution_count": null,
      "metadata": {
        "id": "zZA-NbAkF7LG",
        "tags": [
          "solution",
          "empty"
        ]
      },
      "outputs": [],
      "source": [
        "def train_eval_plot(model):\n",
        "  model.fit(X, y)\n",
        "  y_pred = model.predict(X)\n",
        "\n",
        "  plt.figure()\n",
        "  plt.scatter(y, y_pred)\n",
        "  plt.xlabel(\"True Values\")\n",
        "  plt.ylabel(\"Predicted Values\")\n",
        "\n",
        "  m = y.min()\n",
        "  M = y.max()\n",
        "\n",
        "  plt.plot((m, M), (m, M), color='red')\n",
        "  plt.title(model.__class__.__name__);"
      ]
    },
    {
      "cell_type": "code",
      "execution_count": null,
      "metadata": {
        "id": "MDsi_94ACSRx",
        "tags": [
          "solution"
        ]
      },
      "outputs": [],
      "source": [
        "models = [LinearRegression(),\n",
        "          GradientBoostingRegressor(random_state=0, n_estimators=25),\n",
        "          RandomForestRegressor(random_state=0, n_estimators=25),\n",
        "          Ridge(),\n",
        "          Lasso()]\n",
        "\n",
        "for model in models:\n",
        "  train_eval_plot(model)"
      ]
    }
  ],
  "metadata": {
    "celltoolbar": "Tags",
    "colab": {
      "name": "Regression_with_Scikit_Learn.ipynb",
      "provenance": [],
      "include_colab_link": true
    },
    "kernelspec": {
      "display_name": "Python 3",
      "language": "python",
      "name": "python3"
    },
    "language_info": {
      "codemirror_mode": {
        "name": "ipython",
        "version": 3
      },
      "file_extension": ".py",
      "mimetype": "text/x-python",
      "name": "python",
      "nbconvert_exporter": "python",
      "pygments_lexer": "ipython3",
      "version": "3.7.6"
    }
  },
  "nbformat": 4,
  "nbformat_minor": 0
}