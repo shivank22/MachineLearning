{
  "cells": [
    {
      "cell_type": "markdown",
      "metadata": {
        "id": "view-in-github",
        "colab_type": "text"
      },
      "source": [
        "<a href=\"https://colab.research.google.com/github/shivank22/MachineLearning/blob/main/solutions_do_not_open/Clustering_with_Scikit_Learn_solution.ipynb\" target=\"_parent\"><img src=\"https://colab.research.google.com/assets/colab-badge.svg\" alt=\"Open In Colab\"/></a>"
      ]
    },
    {
      "cell_type": "markdown",
      "metadata": {
        "id": "2bwH96hViwS7"
      },
      "source": [
        "## Learn with us: www.zerotodeeplearning.com\n",
        "\n",
        "Copyright © 2021: Zero to Deep Learning ® Catalit LLC."
      ]
    },
    {
      "cell_type": "code",
      "execution_count": null,
      "metadata": {
        "id": "bFidPKNdkVPg"
      },
      "outputs": [],
      "source": [
        "# Licensed under the Apache License, Version 2.0 (the \"License\");\n",
        "# you may not use this file except in compliance with the License.\n",
        "# You may obtain a copy of the License at\n",
        "#\n",
        "# https://www.apache.org/licenses/LICENSE-2.0\n",
        "#\n",
        "# Unless required by applicable law or agreed to in writing, software\n",
        "# distributed under the License is distributed on an \"AS IS\" BASIS,\n",
        "# WITHOUT WARRANTIES OR CONDITIONS OF ANY KIND, either express or implied.\n",
        "# See the License for the specific language governing permissions and\n",
        "# limitations under the License."
      ]
    },
    {
      "cell_type": "markdown",
      "metadata": {
        "id": "jk6RnoWjEtF5"
      },
      "source": [
        "Documentation links:\n",
        "\n",
        "- [Google Colab](https://colab.research.google.com/notebooks/intro.ipynb)\n",
        "- [Numpy](https://docs.scipy.org/doc/)\n",
        "- [Pandas](https://pandas.pydata.org/docs/getting_started/index.html)\n",
        "- [Pandas Cheatsheet](https://pandas.pydata.org/Pandas_Cheat_Sheet.pdf)\n",
        "- [Matplotlib](https://matplotlib.org/)\n",
        "- [Matplotlib Cheat Sheet](https://s3.amazonaws.com/assets.datacamp.com/blog_assets/Python_Matplotlib_Cheat_Sheet.pdf)\n",
        "- [Seaborn](https://seaborn.pydata.org/)\n",
        "- [Scikit-learn](https://scikit-learn.org/stable/user_guide.html)\n",
        "- [Scikit-learn Cheat Sheet](https://s3.amazonaws.com/assets.datacamp.com/blog_assets/Scikit_Learn_Cheat_Sheet_Python.pdf)\n",
        "- [Scikit-learn Flow Chart](https://scikit-learn.org/stable/tutorial/machine_learning_map/index.html)"
      ]
    },
    {
      "cell_type": "markdown",
      "metadata": {
        "id": "MVBRJoxuEve7"
      },
      "source": [
        "# Clustering with Scikit Learn"
      ]
    },
    {
      "cell_type": "code",
      "execution_count": null,
      "metadata": {
        "id": "Iha6GGOQEzOc"
      },
      "outputs": [],
      "source": [
        "import numpy as np\n",
        "import pandas as pd\n",
        "import matplotlib.pyplot as plt\n",
        "import seaborn as sns"
      ]
    },
    {
      "cell_type": "code",
      "execution_count": null,
      "metadata": {
        "id": "EfsHvLq3E0kK"
      },
      "outputs": [],
      "source": [
        "url = \"https://raw.githubusercontent.com/zerotodeeplearning/ztdl-masterclasses/master/data/\""
      ]
    },
    {
      "cell_type": "code",
      "execution_count": null,
      "metadata": {
        "id": "CYR9PoN8FEuF"
      },
      "outputs": [],
      "source": [
        "df = pd.read_csv(url + 'iris.csv')"
      ]
    },
    {
      "cell_type": "code",
      "execution_count": null,
      "metadata": {
        "id": "YbREm5vfFKf5"
      },
      "outputs": [],
      "source": [
        "df.head()"
      ]
    },
    {
      "cell_type": "code",
      "execution_count": null,
      "metadata": {
        "id": "Ep1epnwoFLjc"
      },
      "outputs": [],
      "source": [
        "df.plot.scatter(x='sepal_length', y='petal_length', title='Iris Flowers');"
      ]
    },
    {
      "cell_type": "code",
      "execution_count": null,
      "metadata": {
        "id": "6zee5i0KFMua"
      },
      "outputs": [],
      "source": [
        "X = df.drop('species', axis=1).values"
      ]
    },
    {
      "cell_type": "code",
      "execution_count": null,
      "metadata": {
        "id": "MqgnNmqjFOBy"
      },
      "outputs": [],
      "source": [
        "from sklearn.cluster import KMeans"
      ]
    },
    {
      "cell_type": "code",
      "execution_count": null,
      "metadata": {
        "id": "RlszGiHFFQCE"
      },
      "outputs": [],
      "source": [
        "model = KMeans(2)\n",
        "model.fit(X)"
      ]
    },
    {
      "cell_type": "code",
      "execution_count": null,
      "metadata": {
        "id": "didYXpdmFSYp"
      },
      "outputs": [],
      "source": [
        "centers = model.cluster_centers_\n",
        "centers"
      ]
    },
    {
      "cell_type": "code",
      "execution_count": null,
      "metadata": {
        "id": "ZqPiYf7BFSv2"
      },
      "outputs": [],
      "source": [
        "plt.scatter(df['sepal_length'], df['petal_length'], c=model.labels_)\n",
        "plt.scatter(centers[:, 0], centers[:, 2], marker='o', c='r', s=100)\n",
        "plt.xlabel('sepal_length')\n",
        "plt.ylabel('petal_length');"
      ]
    },
    {
      "cell_type": "markdown",
      "metadata": {
        "id": "jxf_KNlCsGIv"
      },
      "source": [
        "### Exercise 1\n",
        "\n",
        "What is the optimal number of clusters in this dataset? One way to find it is to use the [Elbow Method](https://en.wikipedia.org/wiki/Elbow_method_(clustering)) that plots the sum of square distances from the nearest cluster center as a function of the number of clusters. We call this quantity \"inertia\". As the number of cluster increases, the total inertia will decrease as there will be more cluster centers and therefore each point will be closer to one such center. At some point, however, adding more centers will result in diminishing returns.\n",
        "\n",
        "- Iterate over `k` from 1 to 10\n",
        "- for each `k` fit a `KMeans` model to the data\n",
        "- Plot the `model.inertia_` as a function of `k`\n",
        "\n",
        "The ideal number of clusters is found at the \"Elbow\" of the curve."
      ]
    },
    {
      "cell_type": "code",
      "execution_count": null,
      "metadata": {
        "tags": [
          "solution",
          "empty"
        ],
        "id": "4BbS4BbEsGIv"
      },
      "outputs": [],
      "source": [
        "ks = range(1, 10)\n",
        "evs = []\n",
        "\n",
        "for k in ks:\n",
        "  model = KMeans(k)\n",
        "  model.fit(X)\n",
        "  score = model.inertia_\n",
        "  evs.append(score)"
      ]
    },
    {
      "cell_type": "code",
      "execution_count": null,
      "metadata": {
        "tags": [
          "solution"
        ],
        "id": "LydX5p5WsGIw"
      },
      "outputs": [],
      "source": [
        "plt.figure(figsize=(10, 6))\n",
        "plt.plot(ks, evs, 'o-')\n",
        "plt.title(\"Squared distance from cluster centers\")\n",
        "plt.xlabel(\"K\")\n",
        "plt.ylabel(\"Inertia\");"
      ]
    },
    {
      "cell_type": "markdown",
      "metadata": {
        "id": "wpciIMM3FT4n"
      },
      "source": [
        "### Exercise 2\n",
        "A different method to assess the goodness of a clustering in absence of labels is the [Silhouette Score](https://en.wikipedia.org/wiki/Silhouette_(clustering)).\n",
        "\n",
        "Let's explore how the `silhouette_score` changes as a function of `k`.\n",
        "\n",
        "- Iterate over `k` from 2 to 10\n",
        "- for each `k` fit a `KMeans` model to the data\n",
        "- evaluate the results with the `silhouette_score`\n",
        "\n",
        "- Bonus points if you plot the score as a function of `k`\n",
        "- Bonus points if you plot the clusters for each value of `k`. To accomplish this task you could define a helper function:\n",
        "```python\n",
        "def plot_clusters(model, centers=None):\n",
        "  # YOUR CODE HERE\n",
        "```\n",
        "that uses the plotting code from the previous cell."
      ]
    },
    {
      "cell_type": "code",
      "execution_count": null,
      "metadata": {
        "id": "GtsETiOaFfrI"
      },
      "outputs": [],
      "source": [
        "from sklearn.metrics import silhouette_score"
      ]
    },
    {
      "cell_type": "code",
      "execution_count": null,
      "metadata": {
        "id": "LiNqcMiKFcbG",
        "tags": [
          "solution",
          "empty"
        ]
      },
      "outputs": [],
      "source": [
        "def plot_clusters(model, centers=None):\n",
        "  plt.scatter(df['sepal_length'], df['petal_length'], c=model.labels_)\n",
        "\n",
        "  if centers is not None:\n",
        "    plt.scatter(centers[:, 0], centers[:, 2], marker='o', c='r', s=100)\n",
        "\n",
        "  plt.xlabel('sepal_length')\n",
        "  plt.ylabel('petal_length');"
      ]
    },
    {
      "cell_type": "code",
      "execution_count": null,
      "metadata": {
        "id": "xjW9vtVrFtga",
        "tags": [
          "solution"
        ]
      },
      "outputs": [],
      "source": [
        "ks = range(2, 10)\n",
        "ss = []\n",
        "i = 1\n",
        "plt.figure(figsize=(10, 10))\n",
        "\n",
        "for k in ks:\n",
        "  model = KMeans(k)\n",
        "  model.fit(X)\n",
        "  score = silhouette_score(X, model.labels_)\n",
        "  ss.append(score)\n",
        "\n",
        "  plt.subplot(3, 3, i)\n",
        "  plot_clusters(model, model.cluster_centers_)\n",
        "  plt.title(\"k: {}\".format(k))\n",
        "\n",
        "  i = i+1\n",
        "\n",
        "\n",
        "plt.subplot(3, 3, i)\n",
        "plt.plot(ks, ss)\n",
        "plt.title(\"Silhouette Score\")\n",
        "plt.xlabel(\"k\")\n",
        "\n",
        "plt.tight_layout()"
      ]
    },
    {
      "cell_type": "markdown",
      "metadata": {
        "id": "n6qQM1-ZJEAq"
      },
      "source": [
        "### Exercise 3\n",
        "\n",
        "- Switch clustering method to `DBSCAN` and fit the model for various values of `eps`\n",
        "- calculate the `silhouette_score` for each value\n",
        "- determine how many clusters were found for each value\n",
        "- Bonus points if you plot the `silhouette_score` as a function of `eps`"
      ]
    },
    {
      "cell_type": "code",
      "execution_count": null,
      "metadata": {
        "id": "647z290zLc7V"
      },
      "outputs": [],
      "source": [
        "from sklearn.cluster import DBSCAN"
      ]
    },
    {
      "cell_type": "code",
      "execution_count": null,
      "metadata": {
        "id": "oEfFKOVwGjGe",
        "tags": [
          "solution",
          "empty"
        ]
      },
      "outputs": [],
      "source": [
        "epss = [0.25, 0.3, 0.4, 0.5, 0.75, 1, 1.25, 1.5]\n",
        "ss = []\n",
        "i = 1\n",
        "\n",
        "plt.figure(figsize=(10, 10))\n",
        "\n",
        "for eps in epss:\n",
        "  model = DBSCAN(eps=eps)\n",
        "  model.fit(X)\n",
        "  score = silhouette_score(X, model.labels_)\n",
        "  ss.append(score)\n",
        "\n",
        "  plt.subplot(3, 3, i)\n",
        "  plot_clusters(model)\n",
        "  plt.title(\"Eps: {}, Labels: {}\".format(eps, np.unique(model.labels_)))\n",
        "\n",
        "  i = i+1\n",
        "\n",
        "\n",
        "plt.subplot(3, 3, i)\n",
        "plt.plot(epss, ss)\n",
        "plt.title(\"Silhouette Score\")\n",
        "plt.xlabel(\"Epsilon\")\n",
        "\n",
        "plt.tight_layout()"
      ]
    }
  ],
  "metadata": {
    "celltoolbar": "Tags",
    "colab": {
      "name": "Clustering_with_Scikit_Learn.ipynb",
      "provenance": [],
      "include_colab_link": true
    },
    "kernelspec": {
      "display_name": "Python 3",
      "language": "python",
      "name": "python3"
    },
    "language_info": {
      "codemirror_mode": {
        "name": "ipython",
        "version": 3
      },
      "file_extension": ".py",
      "mimetype": "text/x-python",
      "name": "python",
      "nbconvert_exporter": "python",
      "pygments_lexer": "ipython3",
      "version": "3.7.6"
    }
  },
  "nbformat": 4,
  "nbformat_minor": 0
}